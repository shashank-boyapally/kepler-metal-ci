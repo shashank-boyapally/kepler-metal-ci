{
 "cells": [
  {
   "cell_type": "code",
   "execution_count": 3,
   "metadata": {},
   "outputs": [
    {
     "name": "stdout",
     "output_type": "stream",
     "text": [
      "Requirement already satisfied: urllib3 in /usr/local/lib/python3.11/site-packages (2.0.4)\n",
      "Requirement already satisfied: scikit-learn in /usr/local/lib/python3.11/site-packages (1.2.2)\n",
      "Requirement already satisfied: numpy in /usr/local/lib/python3.11/site-packages (1.24.2)\n",
      "Requirement already satisfied: pandas in /usr/local/lib/python3.11/site-packages (2.0.2)\n",
      "Requirement already satisfied: xgboost in /usr/local/lib/python3.11/site-packages (2.1.1)\n",
      "Requirement already satisfied: matplotlib in /usr/local/lib/python3.11/site-packages (3.7.1)\n",
      "Requirement already satisfied: seaborn in /usr/local/lib/python3.11/site-packages (0.13.2)\n",
      "Requirement already satisfied: scipy in /usr/local/lib/python3.11/site-packages (1.10.1)\n",
      "Requirement already satisfied: joblib>=1.1.1 in /usr/local/lib/python3.11/site-packages (from scikit-learn) (1.2.0)\n",
      "Requirement already satisfied: threadpoolctl>=2.0.0 in /usr/local/lib/python3.11/site-packages (from scikit-learn) (3.1.0)\n",
      "Requirement already satisfied: python-dateutil>=2.8.2 in /usr/local/lib/python3.11/site-packages (from pandas) (2.8.2)\n",
      "Requirement already satisfied: pytz>=2020.1 in /usr/local/lib/python3.11/site-packages (from pandas) (2023.3)\n",
      "Requirement already satisfied: tzdata>=2022.1 in /usr/local/lib/python3.11/site-packages (from pandas) (2023.3)\n",
      "Requirement already satisfied: contourpy>=1.0.1 in /usr/local/lib/python3.11/site-packages (from matplotlib) (1.1.0)\n",
      "Requirement already satisfied: cycler>=0.10 in /usr/local/lib/python3.11/site-packages (from matplotlib) (0.11.0)\n",
      "Requirement already satisfied: fonttools>=4.22.0 in /usr/local/lib/python3.11/site-packages (from matplotlib) (4.40.0)\n",
      "Requirement already satisfied: kiwisolver>=1.0.1 in /usr/local/lib/python3.11/site-packages (from matplotlib) (1.4.4)\n",
      "Requirement already satisfied: packaging>=20.0 in /usr/local/lib/python3.11/site-packages (from matplotlib) (23.2)\n",
      "Requirement already satisfied: pillow>=6.2.0 in /usr/local/lib/python3.11/site-packages (from matplotlib) (9.5.0)\n",
      "Requirement already satisfied: pyparsing>=2.3.1 in /usr/local/lib/python3.11/site-packages (from matplotlib) (3.1.0)\n",
      "Requirement already satisfied: six>=1.5 in /usr/local/lib/python3.11/site-packages (from python-dateutil>=2.8.2->pandas) (1.16.0)\n",
      "\n",
      "\u001b[1m[\u001b[0m\u001b[34;49mnotice\u001b[0m\u001b[1;39;49m]\u001b[0m\u001b[39;49m A new release of pip is available: \u001b[0m\u001b[31;49m24.1.2\u001b[0m\u001b[39;49m -> \u001b[0m\u001b[32;49m24.2\u001b[0m\n",
      "\u001b[1m[\u001b[0m\u001b[34;49mnotice\u001b[0m\u001b[1;39;49m]\u001b[0m\u001b[39;49m To update, run: \u001b[0m\u001b[32;49mpython3.11 -m pip install --upgrade pip\u001b[0m\n"
     ]
    }
   ],
   "source": [
    "\n",
    "!pip install urllib3 scikit-learn numpy pandas xgboost matplotlib seaborn scipy"
   ]
  },
  {
   "cell_type": "code",
   "execution_count": 6,
   "metadata": {},
   "outputs": [
    {
     "name": "stdout",
     "output_type": "stream",
     "text": [
      "XGB: r2 = 0.9292401707454121, mse = 40.663559610788525, mape = 0.15093738883437527\n",
      "LR: r2 = 0.9051502169892285, mse = 54.50733624090517, mape = 0.34299149711478477\n",
      "CurveFit: r2 = -0.06262941603439653, mse = 610.6613746568701, mape = 1.6650724546708782\n"
     ]
    },
    {
     "name": "stderr",
     "output_type": "stream",
     "text": [
      "/usr/local/lib/python3.10/site-packages/xgboost/core.py:158: UserWarning: [16:13:48] WARNING: /Users/runner/work/xgboost/xgboost/src/objective/regression_obj.cu:227: reg:linear is now deprecated in favor of reg:squarederror.\n",
      "  warnings.warn(smsg, UserWarning)\n",
      "/var/folders/pf/0wf1b2x54xbfv84bp8bw_0mm0000gq/T/ipykernel_53710/883044065.py:69: OptimizeWarning: Covariance of the parameters could not be estimated\n",
      "  popt, _ = curve_fit(logistic_model, X_train.flatten(), y_train)\n"
     ]
    }
   ],
   "source": [
    "import urllib.request\n",
    "import json\n",
    "import numpy as np\n",
    "import pandas as pd\n",
    "from sklearn.model_selection import train_test_split\n",
    "from sklearn.linear_model import LinearRegression\n",
    "from sklearn.metrics import r2_score, mean_squared_error, mean_absolute_percentage_error\n",
    "\n",
    "\n",
    "cpu_time_url = \"https://raw.githubusercontent.com/sustainable-computing-io/kepler-metal-ci/refs/heads/main/docs/validation/2024-09-25/validator-v0.7.11-244-g99b1f94a/artifacts/vm-kepler_process_bpf_cpu_time_ms_total--absolute.json\"\n",
    "# joules_url = \"https://raw.githubusercontent.com/sustainable-computing-io/kepler-metal-ci/refs/heads/main/docs/validation/2024-09-25/validator-v0.7.11-244-g99b1f94a/artifacts/vm-kepler_node_core_joules_total--absolute.json\"\n",
    "joules_url = \"https://raw.githubusercontent.com/sustainable-computing-io/kepler-metal-ci/refs/heads/main/docs/validation/2024-09-25/validator-v0.7.11-244-g99b1f94a/artifacts/metal-kepler_vm_package_joules_total--absolute.json\"\n",
    "\n",
    "with urllib.request.urlopen(cpu_time_url) as url:\n",
    "    cpu_data = json.load(url)\n",
    "\n",
    "with urllib.request.urlopen(joules_url) as url:\n",
    "    joules_data = json.load(url)\n",
    "\n",
    "cpu_timestamps = cpu_data['timestamps']\n",
    "cpu_values = cpu_data['values']\n",
    "\n",
    "joules_timestamps = joules_data['timestamps']\n",
    "joules_values = joules_data['values']\n",
    "\n",
    "cpu_df = pd.DataFrame({\n",
    "    'timestamps': cpu_timestamps,\n",
    "    'cpu_values': cpu_values\n",
    "})\n",
    "\n",
    "joules_df = pd.DataFrame({\n",
    "    'timestamps': joules_timestamps,\n",
    "    'joules_values': joules_values\n",
    "})\n",
    "\n",
    "merged_df = pd.merge(cpu_df, joules_df, on='timestamps')\n",
    "\n",
    "X = merged_df['cpu_values'].values.reshape(-1, 1)\n",
    "y = merged_df['joules_values'].values\n",
    "\n",
    "# split the data into training and test sets\n",
    "X_train, X_test, y_train, y_test = train_test_split(X, y, test_size=0.2, random_state=0)\n",
    "\n",
    "import xgboost as xgb\n",
    "def print_result(model_name, y_test, y_pred):\n",
    "    r2 = r2_score(y_test, y_pred)\n",
    "    mse = mean_squared_error(y_test, y_pred)\n",
    "    mape = mean_absolute_percentage_error(y_test, y_pred)\n",
    "    print(f'{model_name}: r2 = {r2}, mse = {mse}, mape = {mape}')\n",
    "\n",
    "# XGBoost model\n",
    "model = xgb.XGBRegressor(objective=\"reg:linear\", random_state=42)\n",
    "model.fit(X_train, y_train)\n",
    "y_pred = model.predict(X_test)\n",
    "print_result('XGB', y_test, y_pred)\n",
    "\n",
    "# Linear Regression model\n",
    "model = LinearRegression()\n",
    "model.fit(X_train, y_train)\n",
    "y_pred = model.predict(X_test)\n",
    "print_result('LR', y_test, y_pred)\n",
    "\n",
    "# Curve fitting model\n",
    "from scipy.optimize import curve_fit\n",
    "\n",
    "def logistic_model(x, a, b, c):\n",
    "    return c / (1 + np.exp(-(x - b) / a))\n",
    "\n",
    "popt, _ = curve_fit(logistic_model, X_train.flatten(), y_train)\n",
    "y_pred = logistic_model(X_test.flatten(), *popt)\n",
    "print_result('CurveFit', y_test, y_pred)\n"
   ]
  }
 ],
 "metadata": {
  "kernelspec": {
   "display_name": "Python 3",
   "language": "python",
   "name": "python3"
  },
  "language_info": {
   "codemirror_mode": {
    "name": "ipython",
    "version": 3
   },
   "file_extension": ".py",
   "mimetype": "text/x-python",
   "name": "python",
   "nbconvert_exporter": "python",
   "pygments_lexer": "ipython3",
   "version": "3.10.14"
  }
 },
 "nbformat": 4,
 "nbformat_minor": 2
}
